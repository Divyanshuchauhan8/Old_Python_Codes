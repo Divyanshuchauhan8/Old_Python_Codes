{
 "cells": [
  {
   "cell_type": "markdown",
   "metadata": {},
   "source": [
    "Os Module"
   ]
  },
  {
   "cell_type": "code",
   "execution_count": 2,
   "metadata": {},
   "outputs": [
    {
     "name": "stdout",
     "output_type": "stream",
     "text": [
      "Path Exists :  True\n",
      "Read Access :  True\n",
      "Write Access :  False\n",
      "Execute Access :  True\n"
     ]
    }
   ],
   "source": [
    "import os\n",
    "#os.access() To check Whether the user has perssions or not for accesing\n",
    "#path works on uid,gid or you can say suid and sgid\n",
    "#os.access(path,mode)\n",
    "flag1 = os.access(\"C:\\\\new_batch_2pm\\\\\",os.F_OK)#modes 1.os.F_OK - test existence of path\n",
    "flag2 = os.access(\"C:\\\\new_batch_2pm\\\\loop1.py\",os.R_OK)#2.os.R_OK - test readability to given path\n",
    "flag3 = os.access(\"C:\\\\new_batch_2pm\\\\loop1.py\",os.W_OK)#3.os.W_OK - test writablity to fiven path\n",
    "flag4 = os.access(\"C:\\\\new_batch_2pm\\\\loop1.py\",os.X_OK)#4.os.X_OK - test if path can be executed\n",
    "print(\"Path Exists : \",flag1)\n",
    "print(\"Read Access : \",flag2)\n",
    "print(\"Write Access : \",flag3)\n",
    "print(\"Execute Access : \",flag4)"
   ]
  },
  {
   "cell_type": "code",
   "execution_count": 3,
   "metadata": {},
   "outputs": [
    {
     "name": "stdout",
     "output_type": "stream",
     "text": [
      "C:\\new_batch_2pm\\os_module\n",
      "D:\\Movies\n",
      "C:\\new_batch_2pm\\os_module\n"
     ]
    }
   ],
   "source": [
    "#os.chdir() cd as linux\n",
    "import os\n",
    "print(os.getcwd())#current working directory\n",
    "os.chdir(\"D:/Movies\") #Changing The Directory\n",
    "print(os.getcwd()) #New working Directory\n",
    "os.chdir(\"C:\\\\new_batch_2pm\\\\os_module\")\n",
    "print(os.getcwd())"
   ]
  },
  {
   "cell_type": "code",
   "execution_count": 4,
   "metadata": {},
   "outputs": [
    {
     "ename": "AttributeError",
     "evalue": "module 'os' has no attribute 'chflags'",
     "output_type": "error",
     "traceback": [
      "\u001b[1;31m---------------------------------------------------------------------------\u001b[0m",
      "\u001b[1;31mAttributeError\u001b[0m                            Traceback (most recent call last)",
      "\u001b[1;32m<ipython-input-4-7ae39b95ca33>\u001b[0m in \u001b[0;36m<module>\u001b[1;34m()\u001b[0m\n\u001b[0;32m     15\u001b[0m \u001b[1;31m#set flag so that file may not be renamed or deleted\u001b[0m\u001b[1;33m\u001b[0m\u001b[1;33m\u001b[0m\u001b[0m\n\u001b[0;32m     16\u001b[0m \u001b[0mflags\u001b[0m \u001b[1;33m=\u001b[0m \u001b[0mstat\u001b[0m\u001b[1;33m.\u001b[0m\u001b[0mSF_NOUNLINK\u001b[0m\u001b[1;33m\u001b[0m\u001b[0m\n\u001b[1;32m---> 17\u001b[1;33m \u001b[0mprint\u001b[0m\u001b[1;33m(\u001b[0m\u001b[0mos\u001b[0m\u001b[1;33m.\u001b[0m\u001b[0mchflags\u001b[0m\u001b[1;33m(\u001b[0m\u001b[0mpath\u001b[0m\u001b[1;33m,\u001b[0m\u001b[0mflags\u001b[0m\u001b[1;33m)\u001b[0m\u001b[1;33m)\u001b[0m\u001b[1;33m\u001b[0m\u001b[0m\n\u001b[0m",
      "\u001b[1;31mAttributeError\u001b[0m: module 'os' has no attribute 'chflags'"
     ]
    }
   ],
   "source": [
    "#os.chflags(path,flags) #path to dir and to set flag\n",
    "#flags - so.UF_NODUMP - Do not dump the file\n",
    "#stat.UF_IMMUTABLE - The file may not be changed\n",
    "#stat.UF_APPEND - The file may only be appended to\n",
    "#stat.UF_NOUNLINK - The file may not be renamed or deleted\n",
    "#stat.UF_OPAQUE - The Directory is opaque whec viewed through a union stack\n",
    "#stat.SF_ARCHIVED - The file may be archived\n",
    "#stat.SF_IMMUTABLE - The file may not be changed\n",
    "#stat.SF_APPEND - The file may only be appended to\n",
    "#stat.SF_NOUNLINK - The file may not be renamed or deleted\n",
    "#stat.SF_SNAPSHOT - the file is a snapshot file\n",
    "import os\n",
    "import stat #for flags\n",
    "path = \"/new_batch_2pm/array1.py\"\n",
    "#set flag so that file may not be renamed or deleted\n",
    "flags = stat.SF_NOUNLINK\n",
    "print(os.chflags(path,flags))"
   ]
  },
  {
   "cell_type": "code",
   "execution_count": 7,
   "metadata": {},
   "outputs": [
    {
     "name": "stdout",
     "output_type": "stream",
     "text": [
      "Changed \n"
     ]
    }
   ],
   "source": [
    "#os.chmod(path,mode)\n",
    "#modes stat.S_ISUID - Set user ID on execution\n",
    "#stat.S_ISGID - Set group ID on execution\n",
    "#stat.S_ENFMT - Record locking enforced\n",
    "#stat.S_ISVTX - Save text image after execution\n",
    "#stat.S_IREAD - Read by owner\n",
    "#stat.S_IWRITE - Write by owner\n",
    "#stat.S_EXEC - Execute by owner\n",
    "#stat.S_IRWXU - Read,write,and execute by owner\n",
    "#stat.S_IRUSR - Read by owner\n",
    "#stat.S_IWUSR - Write by owner\n",
    "#stat.S_IXUSR - Execute by owner\n",
    "#stat.S_IRWXG - Read,write,and execute by Group\n",
    "#stat.S_IRGRP - Read by group\n",
    "#stat.S_IWGRP - Write by group\n",
    "#stat.S_IXGRP - Execute by group\n",
    "#stat.S_IRWXO - Read Write and Execute by others\n",
    "#stat.S_IROTH - Read by others\n",
    "#stat.S_IWOTH - REad by others\n",
    "#stat.S_IXOTH - Execute by others\n",
    "os.chmod(\"../loop1.py\",stat.S_IRWXG)\n",
    "print(\"Changed \")"
   ]
  },
  {
   "cell_type": "code",
   "execution_count": 8,
   "metadata": {},
   "outputs": [
    {
     "ename": "AttributeError",
     "evalue": "module 'os' has no attribute 'chown'",
     "output_type": "error",
     "traceback": [
      "\u001b[1;31m---------------------------------------------------------------------------\u001b[0m",
      "\u001b[1;31mAttributeError\u001b[0m                            Traceback (most recent call last)",
      "\u001b[1;32m<ipython-input-8-76ffc3ac037c>\u001b[0m in \u001b[0;36m<module>\u001b[1;34m()\u001b[0m\n\u001b[0;32m      1\u001b[0m \u001b[1;31m#os.chown(path,uid,gid)\u001b[0m\u001b[1;33m\u001b[0m\u001b[1;33m\u001b[0m\u001b[0m\n\u001b[1;32m----> 2\u001b[1;33m \u001b[0mos\u001b[0m\u001b[1;33m.\u001b[0m\u001b[0mchown\u001b[0m\u001b[1;33m(\u001b[0m\u001b[1;34m'../loop1.py'\u001b[0m\u001b[1;33m,\u001b[0m\u001b[1;36m197609\u001b[0m\u001b[1;33m,\u001b[0m\u001b[1;36m197121\u001b[0m\u001b[1;33m)\u001b[0m\u001b[1;33m\u001b[0m\u001b[0m\n\u001b[0m\u001b[0;32m      3\u001b[0m \u001b[0mprint\u001b[0m\u001b[1;33m(\u001b[0m\u001b[1;34m'changed'\u001b[0m\u001b[1;33m)\u001b[0m\u001b[1;33m\u001b[0m\u001b[0m\n",
      "\u001b[1;31mAttributeError\u001b[0m: module 'os' has no attribute 'chown'"
     ]
    }
   ],
   "source": [
    "#os.chown(path,uid,gid)\n",
    "os.chown('../loop1.py',197609,197121)\n",
    "print('changed')"
   ]
  },
  {
   "cell_type": "code",
   "execution_count": 10,
   "metadata": {},
   "outputs": [
    {
     "name": "stdout",
     "output_type": "stream",
     "text": [
      "Write and closed sucessfuly\n"
     ]
    }
   ],
   "source": [
    "#os.open os.write os.close\n",
    "import os\n",
    "fd = os.open('../os_test.py',os.O_RDWR|os.O_CREAT)\n",
    "os.write(fd,\"THis is test\".encode())\n",
    "os.close(fd)\n",
    "print(\"Write and closed sucessfuly\")"
   ]
  },
  {
   "cell_type": "code",
   "execution_count": 11,
   "metadata": {},
   "outputs": [
    {
     "name": "stdout",
     "output_type": "stream",
     "text": [
      "['.ipynb_checkpoints', 'Os_Library.ipynb']\n"
     ]
    }
   ],
   "source": [
    "#ls is os.listdir()\n",
    "print(os.listdir())"
   ]
  },
  {
   "cell_type": "code",
   "execution_count": 12,
   "metadata": {},
   "outputs": [
    {
     "name": "stdout",
     "output_type": "stream",
     "text": [
      "None\n"
     ]
    }
   ],
   "source": []
  },
  {
   "cell_type": "code",
   "execution_count": null,
   "metadata": {
    "collapsed": true
   },
   "outputs": [],
   "source": []
  }
 ],
 "metadata": {
  "kernelspec": {
   "display_name": "Python 3",
   "language": "python",
   "name": "python3"
  }
 },
 "nbformat": 4,
 "nbformat_minor": 2
}
