{
 "cells": [
  {
   "cell_type": "markdown",
   "metadata": {},
   "source": [
    "<h1 style='color:#123456'> Exceptions in python programming language</h1>"
   ]
  },
  {
   "cell_type": "code",
   "execution_count": 1,
   "metadata": {},
   "outputs": [
    {
     "name": "stdout",
     "output_type": "stream",
     "text": [
      "Enter a no : alsdf\n"
     ]
    },
    {
     "ename": "ValueError",
     "evalue": "invalid literal for int() with base 10: 'alsdf'",
     "output_type": "error",
     "traceback": [
      "\u001b[1;31m---------------------------------------------------------------------------\u001b[0m",
      "\u001b[1;31mValueError\u001b[0m                                Traceback (most recent call last)",
      "\u001b[1;32m<ipython-input-1-70337ba91490>\u001b[0m in \u001b[0;36m<module>\u001b[1;34m()\u001b[0m\n\u001b[1;32m----> 1\u001b[1;33m \u001b[0mx\u001b[0m \u001b[1;33m=\u001b[0m \u001b[0mint\u001b[0m\u001b[1;33m(\u001b[0m\u001b[0minput\u001b[0m\u001b[1;33m(\u001b[0m\u001b[1;34m\"Enter a no : \"\u001b[0m\u001b[1;33m)\u001b[0m\u001b[1;33m)\u001b[0m\u001b[1;33m\u001b[0m\u001b[0m\n\u001b[0m",
      "\u001b[1;31mValueError\u001b[0m: invalid literal for int() with base 10: 'alsdf'"
     ]
    }
   ],
   "source": [
    "x = int(input(\"Enter a no : \"))"
   ]
  },
  {
   "cell_type": "code",
   "execution_count": 4,
   "metadata": {
    "collapsed": true
   },
   "outputs": [],
   "source": [
    "def int_input():\n",
    "    try : \n",
    "        x = int(input(\"Enter a number : \"))\n",
    "        return x \n",
    "    except ValueError as e :\n",
    "        print(\"Error!!\",e)\n",
    "        print(\"You idiot first learn what is an interger \")\n",
    "        return int_input()"
   ]
  },
  {
   "cell_type": "code",
   "execution_count": 5,
   "metadata": {},
   "outputs": [
    {
     "name": "stdout",
     "output_type": "stream",
     "text": [
      "Enter a number : klh\n",
      "Error!! invalid literal for int() with base 10: 'klh'\n",
      "You idiot first learn what is an interger \n",
      "Enter a number : ,kjsdf\n",
      "Error!! invalid literal for int() with base 10: ',kjsdf'\n",
      "You idiot first learn what is an interger \n",
      "Enter a number : l;fjka\n",
      "Error!! invalid literal for int() with base 10: 'l;fjka'\n",
      "You idiot first learn what is an interger \n",
      "Enter a number : lkadfj]\n",
      "Error!! invalid literal for int() with base 10: 'lkadfj]'\n",
      "You idiot first learn what is an interger \n",
      "Enter a number : lksdf\n",
      "Error!! invalid literal for int() with base 10: 'lksdf'\n",
      "You idiot first learn what is an interger \n",
      "Enter a number : jklfol\n",
      "Error!! invalid literal for int() with base 10: 'jklfol'\n",
      "You idiot first learn what is an interger \n",
      "Enter a number : jkfik\n",
      "Error!! invalid literal for int() with base 10: 'jkfik'\n",
      "You idiot first learn what is an interger \n",
      "Enter a number : jklfas\n",
      "Error!! invalid literal for int() with base 10: 'jklfas'\n",
      "You idiot first learn what is an interger \n",
      "Enter a number : jklsfd\\\n",
      "Error!! invalid literal for int() with base 10: 'jklsfd\\\\'\n",
      "You idiot first learn what is an interger \n",
      "Enter a number : jklsdf\n",
      "Error!! invalid literal for int() with base 10: 'jklsdf'\n",
      "You idiot first learn what is an interger \n",
      "Enter a number : 983274\n"
     ]
    }
   ],
   "source": [
    "x = int_input()"
   ]
  },
  {
   "cell_type": "code",
   "execution_count": 6,
   "metadata": {},
   "outputs": [
    {
     "data": {
      "text/plain": [
       "983274"
      ]
     },
     "execution_count": 6,
     "metadata": {},
     "output_type": "execute_result"
    }
   ],
   "source": [
    "x"
   ]
  },
  {
   "cell_type": "code",
   "execution_count": 23,
   "metadata": {},
   "outputs": [],
   "source": [
    "def div():\n",
    "    try : \n",
    "        \"\"\"div() --> ask for two number x and y and return x / y \"\"\"\n",
    "        x = float(input(\"Enter  x : \"))\n",
    "        y = float(input(\"Enter y : \"))\n",
    "        print(x)\n",
    "        print(y)\n",
    "        res = x / y \n",
    "        return res\n",
    "    except ValueError as e :\n",
    "        print(\"Bhai theek tere sath jo b ho rha tu kam se kam number daal\")\n",
    "        return div()\n",
    "    except ZeroDivisionError as e :\n",
    "        print(\"Aryabhatt saheb zero se divide bhi koi karta hai ky\")\n",
    "        print(\"kamal karte ho pandey ji\")\n",
    "        return div()\n",
    "    except Exception as e : \n",
    "        print(\"Error!!\",e)\n",
    "        return div()"
   ]
  },
  {
   "cell_type": "code",
   "execution_count": 24,
   "metadata": {},
   "outputs": [
    {
     "name": "stdout",
     "output_type": "stream",
     "text": [
      "Enter  x : lsdjf\n",
      "Bhai theek tere sath jo b ho rha tu kam se kam number daal\n",
      "Enter  x : 5\n",
      "Enter y : 0\n",
      "5.0\n",
      "0.0\n",
      "Aryabhatt saheb zero se divide bhi koi karta hai ky\n",
      "kamal karte ho pandey ji\n",
      "Enter  x : 45\n",
      "Enter y : 0\n",
      "45.0\n",
      "0.0\n",
      "Aryabhatt saheb zero se divide bhi koi karta hai ky\n",
      "kamal karte ho pandey ji\n",
      "Enter  x : 34\n",
      "Enter y : 6\n",
      "34.0\n",
      "6.0\n"
     ]
    },
    {
     "data": {
      "text/plain": [
       "5.666666666666667"
      ]
     },
     "execution_count": 24,
     "metadata": {},
     "output_type": "execute_result"
    }
   ],
   "source": [
    "div()"
   ]
  },
  {
   "cell_type": "code",
   "execution_count": 26,
   "metadata": {},
   "outputs": [
    {
     "name": "stdout",
     "output_type": "stream",
     "text": [
      "error : 34\n",
      "Good boy\n",
      "maine apna kaam kar diya ab aap apna dekho\n"
     ]
    }
   ],
   "source": [
    "try :\n",
    "    x = int(input(\"error : \"))\n",
    "except Exception as e :\n",
    "    print(\"Error :\",e)\n",
    "else :\n",
    "    print(\"Good boy\")\n",
    "finally :\n",
    "    print(\"maine apna kaam kar diya ab aap apna dekho\")"
   ]
  },
  {
   "cell_type": "code",
   "execution_count": 27,
   "metadata": {},
   "outputs": [
    {
     "name": "stdout",
     "output_type": "stream",
     "text": [
      "Be Positive : -12\n",
      "je baat\n",
      "Error!! kamal karte ho shii se input karo \n"
     ]
    }
   ],
   "source": [
    "try : \n",
    "    x = int(input(\"Be Positive : \"))\n",
    "    if x < 0 : \n",
    "        raise ZeroDivisionError(\"kamal karte ho shii se input karo \")\n",
    "    print(x)\n",
    "except ZeroDivisionError as e : \n",
    "    print(\"je baat\")\n",
    "    print(\"Error!!\",e)\n"
   ]
  },
  {
   "cell_type": "code",
   "execution_count": 32,
   "metadata": {},
   "outputs": [
    {
     "name": "stdout",
     "output_type": "stream",
     "text": [
      "Enter a number : -12\n",
      "Error!! Please only integer, Thanks\n"
     ]
    }
   ],
   "source": [
    "try : \n",
    "    x = int(input(\"Enter a number : \"))\n",
    "    assert x > 0 , \"Please only integer, Thanks\"\n",
    "except AssertionError as e :\n",
    "    print(\"Error!!\",e)\n",
    "except Exception as e :\n",
    "    print(\"Error!!\",e)"
   ]
  },
  {
   "cell_type": "code",
   "execution_count": 41,
   "metadata": {
    "collapsed": true
   },
   "outputs": [],
   "source": [
    "class MyError(ValueError):\n",
    "    def __init__(self,args):\n",
    "        super().__init__(self,args)\n",
    "    def __repr__(self):\n",
    "        return str(self.args)"
   ]
  },
  {
   "cell_type": "code",
   "execution_count": 42,
   "metadata": {},
   "outputs": [
    {
     "name": "stdout",
     "output_type": "stream",
     "text": [
      "Enter positive : -12\n",
      "Error!! ((...), 'Bhai yrr thak gya m ab bg ja tu')\n"
     ]
    }
   ],
   "source": [
    "try : \n",
    "    x = int(input(\"Enter positive : \"))\n",
    "    raise MyError('Bhai yrr thak gya m ab bg ja tu')\n",
    "except MyError as e :\n",
    "    print(\"Error!!\",e)"
   ]
  },
  {
   "cell_type": "code",
   "execution_count": null,
   "metadata": {
    "collapsed": true
   },
   "outputs": [],
   "source": []
  }
 ],
 "metadata": {
  "kernelspec": {
   "display_name": "Python 3",
   "language": "python",
   "name": "python3"
  },
  "language_info": {
   "codemirror_mode": {
    "name": "ipython",
    "version": 3
   },
   "file_extension": ".py",
   "mimetype": "text/x-python",
   "name": "python",
   "nbconvert_exporter": "python",
   "pygments_lexer": "ipython3",
   "version": "3.6.3"
  }
 },
 "nbformat": 4,
 "nbformat_minor": 2
}
