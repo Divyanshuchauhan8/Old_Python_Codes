{
 "cells": [
  {
   "cell_type": "code",
   "execution_count": 6,
   "metadata": {},
   "outputs": [
    {
     "name": "stdout",
     "output_type": "stream",
     "text": [
      "Enter foo/bar  :              FoO           \n",
      "bar\n"
     ]
    }
   ],
   "source": [
    "x = input(\"Enter foo/bar  :\").strip().lower()\n",
    "if x == 'foo' : \n",
    "    print(\"bar\")\n",
    "elif x == 'bar' : \n",
    "    print(\"foo\")\n",
    "else : \n",
    "    print(\"Don't be oversmart only foo and bar..\")"
   ]
  },
  {
   "cell_type": "code",
   "execution_count": 8,
   "metadata": {},
   "outputs": [
    {
     "name": "stdout",
     "output_type": "stream",
     "text": [
      "X : 10\n",
      "Y : 10\n",
      "Z : 5\n",
      "Greatest Number is  10.0\n"
     ]
    }
   ],
   "source": [
    "x = float(input(\"X : \"))\n",
    "y = float(input(\"Y : \"))\n",
    "z = float(input(\"Z : \"))\n",
    "\n",
    "if x >= y and x >= z : \n",
    "    print(\"Greatest Number is \",x)\n",
    "elif y >= x and y >= z : \n",
    "     print(\"Greatest Number is \",y)\n",
    "else : \n",
    "     print(\"Greatest Number is \",z)"
   ]
  },
  {
   "cell_type": "code",
   "execution_count": 10,
   "metadata": {},
   "outputs": [
    {
     "name": "stdout",
     "output_type": "stream",
     "text": [
      "Enter a number : 12\n",
      "Given num is Even\n"
     ]
    }
   ],
   "source": [
    "num = int(input(\"Enter a number : \"))\n",
    "if num % 2 : \n",
    "    print(\"Given Number is Odd\")\n",
    "else : \n",
    "    print(\"Given num is Even\")"
   ]
  },
  {
   "cell_type": "code",
   "execution_count": 14,
   "metadata": {},
   "outputs": [
    {
     "name": "stdout",
     "output_type": "stream",
     "text": [
      "Enter a year : 2011\n",
      "Not a Leap Year\n"
     ]
    }
   ],
   "source": [
    "year = int(input(\"Enter a year : \"))\n",
    "if year % 4 == 0 : \n",
    "    if year % 100 == 0 :\n",
    "        if year % 400 : \n",
    "            print(\"Not Leap Year\")\n",
    "        else : \n",
    "            print(\"Leap Year\")\n",
    "    else :\n",
    "        print(\"Leap Year\")\n",
    "else : \n",
    "    print(\"Not a Leap Year\")"
   ]
  },
  {
   "cell_type": "code",
   "execution_count": 18,
   "metadata": {},
   "outputs": [
    {
     "name": "stdout",
     "output_type": "stream",
     "text": [
      "Enter X : 5\n",
      "Enter Y: 3\n",
      "Choice (+,-,*,/,//,%,**) : **\n",
      "5.0 to the power 3.0 = 125.0\n"
     ]
    }
   ],
   "source": [
    "x = float(input(\"Enter X : \"))\n",
    "y = float(input(\"Enter Y: \"))\n",
    "ch = input(\"Choice (+,-,*,/,//,%,**) : \")\n",
    "\n",
    "if ch == '+' : \n",
    "    print(\"Addition = \",x+y)\n",
    "elif ch == '-' : \n",
    "    print(\"Substraction = \",x-y)\n",
    "elif ch == '*' : \n",
    "    print(\"Multiplication = \",x*y)\n",
    "elif ch == \"**\" : \n",
    "    print(\"{} to the power {} = {}\".format(x,y,x**y))\n",
    "else : \n",
    "    if y : \n",
    "        if ch == '/' :\n",
    "            print(\"Absolute Division = \",x/y)\n",
    "        elif ch == '//' :\n",
    "            print(\"Floore Division = \",x//y)\n",
    "        elif ch == '%' : \n",
    "            print(\"{} modulas {} = {}\".format(x,y,x%y))\n",
    "        else : \n",
    "            print(\"Waah re Waah bg ja esi koi choice hai hi nh\")\n",
    "    else : \n",
    "        print(\"Bhai saab 0 se b koi divide karta hai ky\")"
   ]
  },
  {
   "cell_type": "code",
   "execution_count": 20,
   "metadata": {},
   "outputs": [
    {
     "name": "stdout",
     "output_type": "stream",
     "text": [
      "Enter no of lines : 5\n",
      "Hello World\n",
      "Hello World\n",
      "Hello World\n",
      "Hello World\n",
      "Hello World\n"
     ]
    }
   ],
   "source": [
    "lines = int(input(\"Enter no of lines : \"))\n",
    "line = 1\n",
    "while line <= lines : \n",
    "    print(\"Hello World\")\n",
    "    line = line + 1"
   ]
  },
  {
   "cell_type": "code",
   "execution_count": 22,
   "metadata": {},
   "outputs": [
    {
     "name": "stdout",
     "output_type": "stream",
     "text": [
      "100, 99, 98, 97, 96, 95, 94, 93, 92, 91, 90, 89, 88, 87, 86, 85, 84, 83, 82, 81, 80, 79, 78, 77, 76, 75, 74, 73, 72, 71, 70, 69, 68, 67, 66, 65, 64, 63, 62, 61, 60, 59, 58, 57, 56, 55, 54, 53, 52, 51, 50, 49, 48, 47, 46, 45, 44, 43, 42, 41, 40, 39, 38, 37, 36, 35, 34, 33, 32, 31, 30, 29, 28, 27, 26, 25, 24, 23, 22, 21, 20, 19, 18, 17, 16, 15, 14, 13, 12, 11, 10, 9, 8, 7, 6, 5, 4, 3, 2, 1, "
     ]
    }
   ],
   "source": [
    "c = 100\n",
    "while c >= 1 : \n",
    "    print(c,end=', ')\n",
    "    c = c - 1 "
   ]
  },
  {
   "cell_type": "code",
   "execution_count": 23,
   "metadata": {},
   "outputs": [
    {
     "name": "stdout",
     "output_type": "stream",
     "text": [
      "Enter number to print table : 13\n",
      "13x1=13\n",
      "13x2=26\n",
      "13x3=39\n",
      "13x4=52\n",
      "13x5=65\n",
      "13x6=78\n",
      "13x7=91\n",
      "13x8=104\n",
      "13x9=117\n",
      "13x10=130\n"
     ]
    }
   ],
   "source": [
    "num = int(input(\"Enter number to print table : \"))\n",
    "c = 1\n",
    "while c <= 10 :\n",
    "    print(\"{}x{}={}\".format(num,c,num*c))\n",
    "    c = c + 1"
   ]
  },
  {
   "cell_type": "code",
   "execution_count": 24,
   "metadata": {},
   "outputs": [
    {
     "name": "stdout",
     "output_type": "stream",
     "text": [
      "*\n",
      "**\n",
      "***\n",
      "****\n",
      "*****\n",
      "******\n",
      "*******\n",
      "********\n",
      "*********\n",
      "**********\n"
     ]
    }
   ],
   "source": [
    "row = 1\n",
    "while row <= 10: \n",
    "    col = 1\n",
    "    while col <= row : \n",
    "        print(\"*\",end='')\n",
    "        col = col + 1\n",
    "    print()\n",
    "    row += 1"
   ]
  },
  {
   "cell_type": "code",
   "execution_count": 25,
   "metadata": {},
   "outputs": [
    {
     "name": "stdout",
     "output_type": "stream",
     "text": [
      "         *\n",
      "        **\n",
      "       ***\n",
      "      ****\n",
      "     *****\n",
      "    ******\n",
      "   *******\n",
      "  ********\n",
      " *********\n",
      "**********\n"
     ]
    }
   ],
   "source": [
    "row = 1\n",
    "while row <= 10: \n",
    "    col = 1\n",
    "    while col <= 10 - row : \n",
    "        print(\" \",end='')\n",
    "        col = col + 1\n",
    "    col = 1\n",
    "    while col <= row : \n",
    "        print(\"*\",end='')\n",
    "        col = col + 1\n",
    "    print()\n",
    "    row += 1"
   ]
  },
  {
   "cell_type": "code",
   "execution_count": 28,
   "metadata": {},
   "outputs": [
    {
     "name": "stdout",
     "output_type": "stream",
     "text": [
      "*\n",
      "**\n",
      "***\n",
      "****\n",
      "*****\n",
      "******\n",
      "*******\n",
      "********\n",
      "*********\n",
      "**********\n"
     ]
    }
   ],
   "source": [
    "row = 1\n",
    "while row <= 10 : \n",
    "    print(\"*\"*row)\n",
    "    row = row + 1"
   ]
  },
  {
   "cell_type": "code",
   "execution_count": 31,
   "metadata": {},
   "outputs": [
    {
     "name": "stdout",
     "output_type": "stream",
     "text": [
      "         *\n",
      "        **\n",
      "       ***\n",
      "      ****\n",
      "     *****\n",
      "    ******\n",
      "   *******\n",
      "  ********\n",
      " *********\n",
      "**********\n"
     ]
    }
   ],
   "source": [
    "row = 1\n",
    "while row <= 10 : \n",
    "    print(\" \"*(10-row),end='')\n",
    "    print(\"*\"*row)\n",
    "    row = row + 1"
   ]
  },
  {
   "cell_type": "code",
   "execution_count": 2,
   "metadata": {},
   "outputs": [
    {
     "name": "stdout",
     "output_type": "stream",
     "text": [
      "Enter a number : 127\n",
      "Number is Prime\n"
     ]
    }
   ],
   "source": [
    "from math import sqrt\n",
    "num = int(input(\"Enter a number : \"))\n",
    "start = 2\n",
    "end = round(sqrt(num))\n",
    "while start <= end : \n",
    "    if num % start == 0 : \n",
    "        print(\"Number is not prime\")\n",
    "        break\n",
    "    start = start + 1\n",
    "else : \n",
    "    print(\"Number is Prime\")"
   ]
  },
  {
   "cell_type": "code",
   "execution_count": 3,
   "metadata": {},
   "outputs": [
    {
     "name": "stdout",
     "output_type": "stream",
     "text": [
      "p\n",
      "y\n",
      "t\n",
      "h\n",
      "o\n",
      "n\n"
     ]
    }
   ],
   "source": [
    "s = 'python'\n",
    "for var in s : \n",
    "    print(var)"
   ]
  },
  {
   "cell_type": "code",
   "execution_count": 4,
   "metadata": {
    "collapsed": true
   },
   "outputs": [],
   "source": [
    "s = [ 'hello', 'hi', 1, 2, 3, 'something', [ 1,2,3,4], ('hey','by'), { 'hello': 'hi'}]"
   ]
  },
  {
   "cell_type": "code",
   "execution_count": 6,
   "metadata": {},
   "outputs": [
    {
     "name": "stdout",
     "output_type": "stream",
     "text": [
      "hello\n",
      "hi\n",
      "1\n",
      "2\n",
      "3\n",
      "something\n",
      "[1, 2, 3, 4]\n",
      "('hey', 'by')\n",
      "{'hello': 'hi'}\n"
     ]
    }
   ],
   "source": [
    "for var in s : \n",
    "    print(var)"
   ]
  },
  {
   "cell_type": "code",
   "execution_count": 9,
   "metadata": {},
   "outputs": [],
   "source": [
    "d = { 'name': 'python', \n",
    "       'release' : 1994,\n",
    "    'current_version' : 3.7,\n",
    "    'frame_work': {\n",
    "        'web': ['Django','Flask','Web2py','Pyramid'],\n",
    "        'ml' : ['Scipy','numpy','pandas','matplotlib'],\n",
    "        'gui' : ['kivi','tkinter','wxpython','PyQt',],\n",
    "        'img_processing' : ['opencv','PIL'],\n",
    "        'automation' : ['ansible','salt','openstack',],\n",
    "        },\n",
    "    'father' : 'Guido Van Rossum',\n",
    "    }"
   ]
  },
  {
   "cell_type": "code",
   "execution_count": 10,
   "metadata": {},
   "outputs": [
    {
     "name": "stdout",
     "output_type": "stream",
     "text": [
      "name\n",
      "release\n",
      "current_version\n",
      "frame_work\n",
      "father\n"
     ]
    }
   ],
   "source": [
    "for var in d : \n",
    "    print(var)"
   ]
  },
  {
   "cell_type": "code",
   "execution_count": 11,
   "metadata": {},
   "outputs": [
    {
     "name": "stdout",
     "output_type": "stream",
     "text": [
      "name=python\n",
      "release=1994\n",
      "current_version=3.7\n",
      "frame_work={'web': ['Django', 'Flask', 'Web2py', 'Pyramid'], 'ml': ['Scipy', 'numpy', 'pandas', 'matplotlib'], 'gui': ['kivi', 'tkinter', 'wxpython', 'PyQt'], 'img_processing': ['opencv', 'PIL'], 'automation': ['ansible', 'salt', 'openstack']}\n",
      "father=Guido Van Rossum\n"
     ]
    }
   ],
   "source": [
    "for key in d : \n",
    "    print(\"{}={}\".format(key,d[key]))"
   ]
  },
  {
   "cell_type": "code",
   "execution_count": 13,
   "metadata": {},
   "outputs": [
    {
     "name": "stdout",
     "output_type": "stream",
     "text": [
      "1\n",
      "2\n",
      "\n",
      "\n",
      "3\n",
      "4\n",
      "\n",
      "\n",
      "5\n",
      "6\n",
      "\n",
      "\n",
      "7\n",
      "8\n",
      "\n",
      "\n",
      "a\n",
      "b\n",
      "\n",
      "\n",
      "c\n",
      "d\n",
      "\n",
      "\n",
      "e\n",
      "f\n",
      "\n",
      "\n"
     ]
    }
   ],
   "source": [
    "l = [ (1,2),(3,4),(5,6),(7,8),'ab','cd','ef']\n",
    "for var1,var2 in l : \n",
    "    print(var1)\n",
    "    print(var2)\n",
    "    print(\"\\n\")"
   ]
  },
  {
   "cell_type": "code",
   "execution_count": 14,
   "metadata": {},
   "outputs": [
    {
     "data": {
      "text/plain": [
       "dict_items([('name', 'python'), ('release', 1994), ('current_version', 3.7), ('frame_work', {'web': ['Django', 'Flask', 'Web2py', 'Pyramid'], 'ml': ['Scipy', 'numpy', 'pandas', 'matplotlib'], 'gui': ['kivi', 'tkinter', 'wxpython', 'PyQt'], 'img_processing': ['opencv', 'PIL'], 'automation': ['ansible', 'salt', 'openstack']}), ('father', 'Guido Van Rossum')])"
      ]
     },
     "execution_count": 14,
     "metadata": {},
     "output_type": "execute_result"
    }
   ],
   "source": [
    "d.items()"
   ]
  },
  {
   "cell_type": "code",
   "execution_count": 24,
   "metadata": {},
   "outputs": [
    {
     "name": "stdout",
     "output_type": "stream",
     "text": [
      "name = python\n",
      "release = 1994\n",
      "current_version = 3.7\n",
      "web = ['Django', 'Flask', 'Web2py', 'Pyramid'] \n",
      "ml = ['Scipy', 'numpy', 'pandas', 'matplotlib'] \n",
      "gui = ['kivi', 'tkinter', 'wxpython', 'PyQt'] \n",
      "img_processing = ['opencv', 'PIL'] \n",
      "automation = ['ansible', 'salt', 'openstack'] \n",
      "father = Guido Van Rossum\n"
     ]
    }
   ],
   "source": [
    "for key,value in d.items():\n",
    "    if str(type(value)) == \"<class 'dict'>\" : \n",
    "        for k,v in value.items() : \n",
    "            print(\"{} = {} \".format(k,v))\n",
    "    else :         \n",
    "        print(\"{} = {}\".format(key,value))"
   ]
  },
  {
   "cell_type": "code",
   "execution_count": 18,
   "metadata": {},
   "outputs": [
    {
     "name": "stdout",
     "output_type": "stream",
     "text": [
      "<class 'dict'>\n"
     ]
    }
   ],
   "source": [
    "print(type(d))"
   ]
  },
  {
   "cell_type": "code",
   "execution_count": 25,
   "metadata": {},
   "outputs": [
    {
     "name": "stdout",
     "output_type": "stream",
     "text": [
      "1\n",
      "3\n",
      "5\n",
      "7\n",
      "9\n"
     ]
    }
   ],
   "source": [
    "for var in range(1,10,2):\n",
    "    print(var)"
   ]
  },
  {
   "cell_type": "code",
   "execution_count": 26,
   "metadata": {},
   "outputs": [
    {
     "name": "stdout",
     "output_type": "stream",
     "text": [
      "0\n",
      "1\n",
      "2\n",
      "3\n",
      "4\n",
      "5\n",
      "6\n",
      "7\n",
      "8\n",
      "9\n"
     ]
    }
   ],
   "source": [
    "for var in range(10):\n",
    "    print(var)"
   ]
  },
  {
   "cell_type": "code",
   "execution_count": 27,
   "metadata": {},
   "outputs": [
    {
     "name": "stdout",
     "output_type": "stream",
     "text": [
      "1\n",
      "2\n",
      "3\n",
      "4\n",
      "5\n",
      "6\n",
      "7\n",
      "8\n",
      "9\n",
      "10\n"
     ]
    }
   ],
   "source": [
    "for var in range(1,11):\n",
    "    print(var)"
   ]
  },
  {
   "cell_type": "code",
   "execution_count": 28,
   "metadata": {},
   "outputs": [
    {
     "name": "stdout",
     "output_type": "stream",
     "text": [
      "100,98,96,94,92,90,88,86,84,82,80,78,76,74,72,70,68,66,64,62,60,58,56,54,52,50,48,46,44,42,40,38,36,34,32,30,28,26,24,22,20,18,16,14,12,10,8,6,4,2,"
     ]
    }
   ],
   "source": [
    "for var in range(100,1,-2):\n",
    "    print(var,end=',')"
   ]
  },
  {
   "cell_type": "code",
   "execution_count": 29,
   "metadata": {},
   "outputs": [
    {
     "name": "stdout",
     "output_type": "stream",
     "text": [
      "\n",
      "*\n",
      "**\n",
      "***\n",
      "****\n",
      "*****\n",
      "******\n",
      "*******\n",
      "********\n",
      "*********\n"
     ]
    }
   ],
   "source": [
    "for row in range(10):\n",
    "    for col in range(row):\n",
    "        print('*',end='')\n",
    "    print()"
   ]
  },
  {
   "cell_type": "code",
   "execution_count": 30,
   "metadata": {},
   "outputs": [
    {
     "name": "stdout",
     "output_type": "stream",
     "text": [
      "          *\n",
      "         **\n",
      "        ***\n",
      "       ****\n",
      "      *****\n",
      "     ******\n",
      "    *******\n",
      "   ********\n",
      "  *********\n",
      " **********\n"
     ]
    }
   ],
   "source": [
    "for line in range(1,11):\n",
    "    print(\" \"*(11-line),end='')\n",
    "    print(\"*\"*line)\n",
    "    \n",
    "    \n",
    "    "
   ]
  },
  {
   "cell_type": "code",
   "execution_count": 32,
   "metadata": {},
   "outputs": [
    {
     "name": "stdout",
     "output_type": "stream",
     "text": [
      "0,1,2,3,4,5,6,7,8,9,10,11,12,13,14,15,16,17,18,19,20,21,22,23,24,25,26,27,28,29,30,31,32,33,34,35,36,37,38,39,40,41,42,43,44,45,46,47,48,49,"
     ]
    }
   ],
   "source": [
    "for var in range(100):\n",
    "    if var == 50 : \n",
    "        break\n",
    "    print(var,end=',')\n",
    "else : \n",
    "    print(\"should i print ? \")"
   ]
  },
  {
   "cell_type": "code",
   "execution_count": 36,
   "metadata": {},
   "outputs": [
    {
     "name": "stdout",
     "output_type": "stream",
     "text": [
      "Start value : 1\n",
      "End value : 100\n",
      "2, 4, 6, 8, 10, 12, 14, 16, 18, 20, 22, 24, 26, 28, 30, 32, 34, 36, 38, 40, 42, 44, 46, 48, 50, 52, 54, 56, 58, 60, 62, 64, 66, 68, 70, 72, 74, 76, 78, 80, 82, 84, 86, 88, 90, 92, 94, 96, 98, 100, "
     ]
    }
   ],
   "source": [
    "s = int(input(\"Start value : \"))\n",
    "e = int(input(\"End value : \"))\n",
    "c = s\n",
    "while c <= e :\n",
    "    c = c + 1\n",
    "    if c % 2 : \n",
    "        continue \n",
    "    print(c,end=', ')\n",
    "    "
   ]
  },
  {
   "cell_type": "code",
   "execution_count": 37,
   "metadata": {
    "collapsed": true
   },
   "outputs": [],
   "source": [
    "def hello():\n",
    "    print(\"Hello World\")"
   ]
  },
  {
   "cell_type": "code",
   "execution_count": 38,
   "metadata": {},
   "outputs": [
    {
     "name": "stdout",
     "output_type": "stream",
     "text": [
      "Hello World\n",
      "Hello World\n",
      "Hello World\n",
      "Hello World\n",
      "Hello World\n"
     ]
    }
   ],
   "source": [
    "for var in range(5):\n",
    "    hello()"
   ]
  },
  {
   "cell_type": "code",
   "execution_count": 40,
   "metadata": {},
   "outputs": [
    {
     "name": "stdout",
     "output_type": "stream",
     "text": [
      "Hello World\n"
     ]
    }
   ],
   "source": [
    "k = hello()"
   ]
  },
  {
   "cell_type": "code",
   "execution_count": 41,
   "metadata": {},
   "outputs": [
    {
     "name": "stdout",
     "output_type": "stream",
     "text": [
      "None\n"
     ]
    }
   ],
   "source": [
    "print(k)"
   ]
  },
  {
   "cell_type": "code",
   "execution_count": 43,
   "metadata": {},
   "outputs": [
    {
     "name": "stdout",
     "output_type": "stream",
     "text": [
      "Hello World\n",
      "\n",
      "\n",
      "None None None\n"
     ]
    }
   ],
   "source": [
    "print(print(\"Hello World\"),print(),print())"
   ]
  },
  {
   "cell_type": "code",
   "execution_count": 44,
   "metadata": {
    "collapsed": true
   },
   "outputs": [],
   "source": [
    "def add(x,y):\n",
    "    return x + y"
   ]
  },
  {
   "cell_type": "code",
   "execution_count": 45,
   "metadata": {
    "collapsed": true
   },
   "outputs": [],
   "source": [
    "x = add(4,5)\n",
    "y = add('hello ','world')\n",
    "z = add([1,2,3,4],['hey','buddy'])"
   ]
  },
  {
   "cell_type": "code",
   "execution_count": 46,
   "metadata": {},
   "outputs": [
    {
     "name": "stdout",
     "output_type": "stream",
     "text": [
      "9\n"
     ]
    }
   ],
   "source": [
    "print(x)"
   ]
  },
  {
   "cell_type": "code",
   "execution_count": 47,
   "metadata": {},
   "outputs": [
    {
     "name": "stdout",
     "output_type": "stream",
     "text": [
      "hello world\n"
     ]
    }
   ],
   "source": [
    "print(y)"
   ]
  },
  {
   "cell_type": "code",
   "execution_count": 48,
   "metadata": {},
   "outputs": [
    {
     "name": "stdout",
     "output_type": "stream",
     "text": [
      "[1, 2, 3, 4, 'hey', 'buddy']\n"
     ]
    }
   ],
   "source": [
    "print(z)"
   ]
  },
  {
   "cell_type": "code",
   "execution_count": 49,
   "metadata": {
    "collapsed": true
   },
   "outputs": [],
   "source": [
    "def prime(num): \n",
    "    c = round(sqrt(num))\n",
    "    for var in range(2,c+1) : \n",
    "        if num % var == 0 : \n",
    "            return False\n",
    "    return True"
   ]
  },
  {
   "cell_type": "code",
   "execution_count": 52,
   "metadata": {},
   "outputs": [
    {
     "name": "stdout",
     "output_type": "stream",
     "text": [
      "True\n",
      "False\n"
     ]
    }
   ],
   "source": [
    "print(prime(13))\n",
    "print(prime(123))"
   ]
  },
  {
   "cell_type": "code",
   "execution_count": 50,
   "metadata": {
    "collapsed": true
   },
   "outputs": [],
   "source": [
    "def hello():\n",
    "    return 'something'\n",
    "    print(\"hello\")\n",
    "    print(\"bye\")"
   ]
  },
  {
   "cell_type": "code",
   "execution_count": 51,
   "metadata": {},
   "outputs": [
    {
     "data": {
      "text/plain": [
       "'something'"
      ]
     },
     "execution_count": 51,
     "metadata": {},
     "output_type": "execute_result"
    }
   ],
   "source": [
    "hello()"
   ]
  },
  {
   "cell_type": "code",
   "execution_count": null,
   "metadata": {
    "collapsed": true
   },
   "outputs": [],
   "source": []
  }
 ],
 "metadata": {
  "kernelspec": {
   "display_name": "Python 3",
   "language": "python",
   "name": "python3"
  },
  "language_info": {
   "codemirror_mode": {
    "name": "ipython",
    "version": 3
   },
   "file_extension": ".py",
   "mimetype": "text/x-python",
   "name": "python",
   "nbconvert_exporter": "python",
   "pygments_lexer": "ipython3",
   "version": "3.6.3"
  }
 },
 "nbformat": 4,
 "nbformat_minor": 2
}
