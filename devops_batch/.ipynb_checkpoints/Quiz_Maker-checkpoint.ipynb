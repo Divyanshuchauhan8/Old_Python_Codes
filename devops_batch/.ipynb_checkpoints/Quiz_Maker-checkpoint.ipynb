{
 "cells": [
  {
   "cell_type": "code",
   "execution_count": 10,
   "metadata": {
    "collapsed": true
   },
   "outputs": [],
   "source": [
    "Ques = [\n",
    "    [\"Which is the latest version of python ?\",[3.6,3.7,3.8,3.5],3.7],\n",
    "    [\"Which is not a loop statement in python ?\",['for','while','do-while','None of these'],'do-while'],\n",
    "    [\"Python is not a ? \",['Programming Language','Scripting Language','Hardware language','None of these'],'Hardware language']\n",
    "\n",
    "]\n",
    "import json\n",
    "f = open('quiz_maker.db','w')\n",
    "json.dump(Ques,f)\n",
    "f.close()\n",
    "del Ques"
   ]
  },
  {
   "cell_type": "code",
   "execution_count": 13,
   "metadata": {},
   "outputs": [
    {
     "name": "stdout",
     "output_type": "stream",
     "text": [
      "Press any key to start Quizk\n",
      "1. Ques Which is not a loop statement in python ?\n",
      "1. while\t2. None of these\t3. for\t4. do-while\n",
      "Your Answer : 4\n",
      "2. Ques Python is not a ? \n",
      "1. None of these\t2. Hardware language\t3. Programming Language\t4. Scripting Language\n",
      "Your Answer : 2\n",
      "3. Ques Which is the latest version of python ?\n",
      "1. 3.5\t2. 3.8\t3. 3.7\t4. 3.6\n",
      "Your Answer : 3\n",
      "4. Ques Which is not a Python Keyword ? \n",
      "1. if\t2. None\t3. pass\t4. case\n",
      "Your Answer : 4\n",
      "5. Ques Which of these is not a python web framework ? \n",
      "1. Flask\t2. Pycharm\t3. Django\t4. Web2Py\n",
      "Your Answer : 2\n",
      "6. Ques Father of python ? \n",
      "1. James Gosline\t2. Guido Van Rossum\t3. Denis Richi\t4. Bajarane Stropsoup\n",
      "Your Answer : 2\n",
      "7. Ques Python is officially released in year ?\n",
      "1. 1991\t2. 1995\t3. 1994\t4. 2000\n",
      "Your Answer : 3\n",
      "8. Ques Python Module to process arrays ? \n",
      "1. array\t2. list\t3. numpy\t4. pandas\n",
      "Your Answer : 3\n",
      "Total Question Asked  :  8\n",
      "Total Correct Answers  :  8\n",
      "Total Wrong Answers  :  0\n",
      "Your Score 40 / 40 \n",
      "Press any key to start Quiz\n"
     ]
    }
   ],
   "source": [
    "f = open('quiz_maker.db')\n",
    "Ques = json.load(f)\n",
    "f.close()\n",
    "from random import shuffle\n",
    "score = 0\n",
    "correct = 0\n",
    "q = 1\n",
    "while input(\"Press any key to start Quiz\") :\n",
    "    shuffle(Ques)\n",
    "    for question in Ques:\n",
    "        print(\"{}. Ques {}\".format(q,question[0]))\n",
    "        q += 1\n",
    "        shuffle(question[1])\n",
    "        print(\"1. {}\\t2. {}\\t3. {}\\t4. {}\".format(*(question[1])))\n",
    "        ans_index = question[1].index(question[2]) + 1\n",
    "        u_ans_index = int(input(\"Your Answer : \"))\n",
    "        if ans_index == u_ans_index : \n",
    "            score += 5\n",
    "            correct += 1\n",
    "        else :\n",
    "            score -= 1\n",
    "    print(\"Total Question Asked  : \",len(Ques))\n",
    "    print(\"Total Correct Answers  : \",correct)\n",
    "    print(\"Total Wrong Answers  : \",len(Ques)-correct)\n",
    "    print(\"Your Score {} / {} \".format(score,5*len(Ques)))\n",
    "\n",
    "del Ques"
   ]
  },
  {
   "cell_type": "code",
   "execution_count": 12,
   "metadata": {},
   "outputs": [
    {
     "name": "stdout",
     "output_type": "stream",
     "text": [
      "Sucessfully updates Questions\n"
     ]
    }
   ],
   "source": [
    "new_Ques = [\n",
    "    \n",
    "    [\"Python is officially released in year ?\",[2000,1991,1994,1995],1994],\n",
    "    [\"Which is not a Python Keyword ? \",['pass','None','case','if'],'case'],\n",
    "    [\"Father of python ? \",['Guido Van Rossum','James Gosline','Denis Richi','Bajarane Stropsoup'],'Guido Van Rossum'],\n",
    "    [\"Python Module to process arrays ? \",['numpy','list','array','pandas'],'numpy'],\n",
    "    [\"Which of these is not a python web framework ? \",['Django','Flask','Pycharm','Web2Py'],'Pycharm'],\n",
    "    ]\n",
    "f = open('quiz_maker.db')\n",
    "Ques = json.load(f)\n",
    "f.close()\n",
    "f = open('quiz_backup.db','w')\n",
    "json.dump(Ques,f)\n",
    "f.close()\n",
    "for question in new_Ques:\n",
    "    Ques.append(question)\n",
    "f = open('quiz_maker.db','w')\n",
    "json.dump(Ques,f)\n",
    "f.close()\n",
    "print(\"Sucessfully updates Questions\")"
   ]
  },
  {
   "cell_type": "code",
   "execution_count": null,
   "metadata": {
    "collapsed": true
   },
   "outputs": [],
   "source": []
  }
 ],
 "metadata": {
  "kernelspec": {
   "display_name": "Python 3",
   "language": "python",
   "name": "python3"
  },
  "language_info": {
   "codemirror_mode": {
    "name": "ipython",
    "version": 3
   },
   "file_extension": ".py",
   "mimetype": "text/x-python",
   "name": "python",
   "nbconvert_exporter": "python",
   "pygments_lexer": "ipython3",
   "version": "3.6.3"
  }
 },
 "nbformat": 4,
 "nbformat_minor": 2
}
